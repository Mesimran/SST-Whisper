{
 "cells": [
  {
   "cell_type": "code",
   "execution_count": null,
   "id": "4cb25bb5-5e93-4e0c-bcda-d29694873302",
   "metadata": {},
   "outputs": [],
   "source": [
    "# Import necessary libraries\n",
    "import librosa\n",
    "import torch\n",
    "from transformers import WhisperProcessor, WhisperForConditionalGeneration\n"
   ]
  },
  {
   "cell_type": "code",
   "execution_count": 8,
   "id": "1ca8564c-d4cb-4474-aa76-5dd4e4d29516",
   "metadata": {},
   "outputs": [
    {
     "name": "stdout",
     "output_type": "stream",
     "text": [
      "model loaded successfully\n"
     ]
    }
   ],
   "source": [
    "# Load the Whisper model and processor\n",
    "processor = WhisperProcessor.from_pretrained(\"openai/whisper-tiny\")\n",
    "model = WhisperForConditionalGeneration.from_pretrained(\"openai/whisper-tiny\")\n",
    "print(\"model loaded successfully\")\n"
   ]
  },
  {
   "cell_type": "code",
   "execution_count": 6,
   "id": "9f770318",
   "metadata": {},
   "outputs": [],
   "source": [
    "\n",
    "audio_path = \"gentleman-and-tiger-16.mp3\"  # Example: \"path/to/your_audio.mp3\"\n",
    "audio, sr = librosa.load(audio_path, sr=16000)  # Whisper expects 16kHz sampling rate"
   ]
  },
  {
   "cell_type": "code",
   "execution_count": null,
   "id": "83cfc8ac",
   "metadata": {},
   "outputs": [],
   "source": [
    "# Process the audio into input features\n",
    "inputs = processor(audio, sampling_rate=16000, return_tensors=\"pt\")\n",
    "\n",
    "# Generate transcription\n",
    "with torch.no_grad():\n",
    "    generated_ids = model.generate(inputs[\"input_features\"])"
   ]
  },
  {
   "cell_type": "code",
   "execution_count": 10,
   "id": "41fdd408",
   "metadata": {},
   "outputs": [
    {
     "name": "stdout",
     "output_type": "stream",
     "text": [
      "Transcription:  Hello, this is John and I'm here with an ancient story from India. It features a variety of characters including a tiger, a buffalo, a tree and a road. Yes, that is an unusual collection. It starts with the tiger.\n"
     ]
    }
   ],
   "source": [
    "# Decode the transcription\n",
    "transcription = processor.batch_decode(generated_ids, skip_special_tokens=True)[0]\n",
    "\n",
    "# Print the result\n",
    "print(\"Transcription:\", transcription)"
   ]
  }
 ],
 "metadata": {
  "kernelspec": {
   "display_name": "Python 3",
   "language": "python",
   "name": "python3"
  },
  "language_info": {
   "codemirror_mode": {
    "name": "ipython",
    "version": 3
   },
   "file_extension": ".py",
   "mimetype": "text/x-python",
   "name": "python",
   "nbconvert_exporter": "python",
   "pygments_lexer": "ipython3",
   "version": "3.11.9"
  }
 },
 "nbformat": 4,
 "nbformat_minor": 5
}
